{
  "metadata": {
    "kernelspec": {
      "language": "python",
      "display_name": "Python 3",
      "name": "python3"
    },
    "language_info": {
      "name": "python",
      "version": "3.6.6",
      "mimetype": "text/x-python",
      "codemirror_mode": {
        "name": "ipython",
        "version": 3
      },
      "pygments_lexer": "ipython3",
      "nbconvert_exporter": "python",
      "file_extension": ".py"
    },
    "kaggle": {
      "accelerator": "gpu",
      "dataSources": [
        {
          "sourceId": 859437,
          "sourceType": "datasetVersion",
          "datasetId": 455666
        }
      ],
      "dockerImageVersionId": 29855,
      "isInternetEnabled": false,
      "language": "python",
      "sourceType": "notebook",
      "isGpuEnabled": true
    },
    "colab": {
      "name": "Project_422",
      "provenance": [],
      "include_colab_link": true
    }
  },
  "nbformat_minor": 0,
  "nbformat": 4,
  "cells": [
    {
      "cell_type": "markdown",
      "metadata": {
        "id": "view-in-github",
        "colab_type": "text"
      },
      "source": [
        "<a href=\"https://colab.research.google.com/github/Riead2001/Calc-Task/blob/main/Bengali-News-Classifer.ipynb\" target=\"_parent\"><img src=\"https://colab.research.google.com/assets/colab-badge.svg\" alt=\"Open In Colab\"/></a>"
      ]
    },
    {
      "source": [
        "\n"
      ],
      "metadata": {
        "id": "E1uJ6jWQ-mrc"
      },
      "cell_type": "code",
      "outputs": [],
      "execution_count": null
    },
    {
      "cell_type": "markdown",
      "source": [
        "# Bengali News Classification Using Cnn,Naive Bayes, SVM\n",
        "\n",
        "\n",
        "\n",
        "\n"
      ],
      "metadata": {
        "id": "bzOzCt-w-mrd"
      }
    },
    {
      "cell_type": "code",
      "source": [
        "import numpy as np # linear algebra\n",
        "import pandas as pd # data processing, CSV file I/O (e.g. pd.read_csv)\n",
        "import os\n",
        "for dirname, _, filenames in os.walk(''):\n",
        "    for filename in filenames:\n",
        "        print(os.path.join(dirname, filename))\n",
        "\n"
      ],
      "metadata": {
        "_uuid": "8f2839f25d086af736a60e9eeb907d3b93b6e0e5",
        "_cell_guid": "b1076dfc-b9ad-4769-8c92-a6c4dae69d19",
        "trusted": true,
        "id": "daUUynSD-mre"
      },
      "outputs": [],
      "execution_count": null
    },
    {
      "cell_type": "code",
      "source": [
        "train = pd.read_csv('train.csv')\n",
        "train.head()"
      ],
      "metadata": {
        "_uuid": "d629ff2d2480ee46fbb7e2d37f6b5fab8052498a",
        "_cell_guid": "79c7e3d0-c299-4dcb-8224-4455121ee9b0",
        "trusted": true,
        "id": "U-D37nz2-mre"
      },
      "outputs": [],
      "execution_count": null
    },
    {
      "cell_type": "code",
      "source": [
        "train.describe()"
      ],
      "metadata": {
        "trusted": true,
        "id": "CVFN2fZj-mrf"
      },
      "outputs": [],
      "execution_count": null
    },
    {
      "cell_type": "code",
      "source": [
        "test = pd.read_csv('valid.csv')\n",
        "test.head()"
      ],
      "metadata": {
        "trusted": true,
        "id": "ur2avym7-mrf"
      },
      "outputs": [],
      "execution_count": null
    },
    {
      "cell_type": "code",
      "source": [
        "\n",
        "\n",
        "df = pd.read_csv('train.csv')\n",
        "\n",
        "\n",
        "null_values = df.isnull().sum()\n",
        "print(null_values)"
      ],
      "metadata": {
        "trusted": true,
        "id": "P-QSxoK4-mrf"
      },
      "outputs": [],
      "execution_count": null
    },
    {
      "cell_type": "code",
      "source": [
        "# fix random seed for reproducibility\n",
        "np.random.seed(7)\n",
        "train = train.drop_duplicates().reset_index(drop=True)\n",
        "test = test.drop_duplicates().reset_index(drop=True)"
      ],
      "metadata": {
        "trusted": true,
        "id": "mQsxGhQU-mrf"
      },
      "outputs": [],
      "execution_count": null
    },
    {
      "cell_type": "code",
      "source": [
        "test = pd.read_csv('valid.csv')\n",
        "test.head()"
      ],
      "metadata": {
        "trusted": true,
        "id": "zbESrnaX-mrg"
      },
      "outputs": [],
      "execution_count": null
    },
    {
      "cell_type": "code",
      "source": [
        "train.label.unique()"
      ],
      "metadata": {
        "trusted": true,
        "id": "-nS916MK-mrg"
      },
      "outputs": [],
      "execution_count": null
    },
    {
      "cell_type": "code",
      "source": [
        "train.label = train.label.replace('entertainment', 1)\n",
        "train.label = train.label.replace('national', 2)\n",
        "train.label = train.label.replace('sports', 3)\n",
        "train.label = train.label.replace('kolkata', 4)\n",
        "train.label = train.label.replace('state', 5)\n",
        "train.label = train.label.replace('international', 6)\n",
        "train.label = train.label.replace('sport', 3)\n",
        "train.label = train.label.replace('nation', 2)\n",
        "train.label = train.label.replace('world', 6)\n",
        "train.label = train.label.replace('travel', 7)\n"
      ],
      "metadata": {
        "trusted": true,
        "id": "aCcloQH5-mrg"
      },
      "outputs": [],
      "execution_count": null
    },
    {
      "cell_type": "code",
      "source": [
        "train.label.head()"
      ],
      "metadata": {
        "trusted": true,
        "id": "5Ym1sSrk-mrg"
      },
      "outputs": [],
      "execution_count": null
    },
    {
      "cell_type": "code",
      "source": [
        "test.label.unique()"
      ],
      "metadata": {
        "trusted": true,
        "id": "pBgD8Y7Y-mrh"
      },
      "outputs": [],
      "execution_count": null
    },
    {
      "cell_type": "code",
      "source": [
        "test.label = test.label.replace('entertainment', 1)\n",
        "test.label = test.label.replace('national', 2)\n",
        "test.label = test.label.replace('sports', 3)\n",
        "test.label = test.label.replace('kolkata', 4)\n",
        "test.label = test.label.replace('state', 5)\n",
        "test.label = test.label.replace('international', 6)\n",
        "test.label = test.label.replace('sport', 3)\n",
        "test.label = test.label.replace('nation', 2)\n",
        "test.label = test.label.replace('world', 7)\n",
        "test.label = test.label.replace('travel', 8)\n"
      ],
      "metadata": {
        "trusted": true,
        "id": "zH3i_F8t-mrh"
      },
      "outputs": [],
      "execution_count": null
    },
    {
      "cell_type": "code",
      "source": [
        "train.label.head()\n"
      ],
      "metadata": {
        "trusted": true,
        "id": "UKHLGnD_-mrh"
      },
      "outputs": [],
      "execution_count": null
    },
    {
      "cell_type": "code",
      "source": [
        "train = train.append(test)\n",
        "df = train\n",
        "df.head()"
      ],
      "metadata": {
        "trusted": true,
        "id": "A5IYwtNR-mrh"
      },
      "outputs": [],
      "execution_count": null
    },
    {
      "cell_type": "markdown",
      "source": [
        "# **Naive Bayes**"
      ],
      "metadata": {
        "id": "RCA1kcJm-mrh"
      }
    },
    {
      "cell_type": "code",
      "source": [
        "from sklearn.model_selection import train_test_split\n",
        "from sklearn.feature_extraction.text import TfidfVectorizer\n",
        "from sklearn.naive_bayes import MultinomialNB\n",
        "from sklearn.metrics import accuracy_score, classification_report\n"
      ],
      "metadata": {
        "trusted": true,
        "id": "3ZUrfROn-mri"
      },
      "outputs": [],
      "execution_count": null
    },
    {
      "cell_type": "code",
      "source": [
        "# Assuming you've already imported the necessary libraries\n",
        "# Preprocessing\n",
        "X = train['article']\n",
        "y = train['label']\n",
        "MAX_NB_WORDS=500\n",
        "# TF-IDF Vectorization\n",
        "tfidf_vectorizer = TfidfVectorizer(max_features=MAX_NB_WORDS)\n",
        "X_tfidf = tfidf_vectorizer.fit_transform(X)\n",
        "\n",
        "# Splitting the data into training and testing sets\n",
        "X_train, X_test, y_train, y_test = train_test_split(X_tfidf, y, test_size=0.2, random_state=42)\n",
        "\n",
        "# Naive Bayes Classifier\n",
        "nb_classifier = MultinomialNB()\n",
        "nb_classifier.fit(X_train, y_train)\n",
        "\n",
        "# Predictions\n",
        "y_pred = nb_classifier.predict(X_test)\n",
        "\n",
        "# Evaluating the model\n",
        "accuracyNB = accuracy_score(y_test, y_pred)\n",
        "print(f\"Accuracy: {accuracyNB}\")\n",
        "\n",
        "# Classification Report\n",
        "print(classification_report(y_test, y_pred))\n"
      ],
      "metadata": {
        "trusted": true,
        "id": "fy-shMYt-mri"
      },
      "outputs": [],
      "execution_count": null
    },
    {
      "cell_type": "code",
      "source": [
        "accuracy3=accuracyNB\n",
        "print(accuracy3)"
      ],
      "metadata": {
        "trusted": true,
        "id": "tSshUBNt-mri"
      },
      "outputs": [],
      "execution_count": null
    },
    {
      "cell_type": "code",
      "source": [],
      "metadata": {
        "trusted": true,
        "id": "vjafTCVx-mri"
      },
      "outputs": [],
      "execution_count": null
    },
    {
      "cell_type": "code",
      "source": [
        "class_report = classification_report(y_test, y_pred)\n",
        "print(\"Classification Report:\")\n",
        "print(class_report)"
      ],
      "metadata": {
        "trusted": true,
        "id": "LUvFCRZi-mri"
      },
      "outputs": [],
      "execution_count": null
    },
    {
      "cell_type": "code",
      "source": [],
      "metadata": {
        "trusted": true,
        "id": "92Vtuipy-mri"
      },
      "outputs": [],
      "execution_count": null
    },
    {
      "cell_type": "code",
      "source": [
        "from sklearn.metrics import confusion_matrix\n",
        "import matplotlib.pyplot as plt\n",
        "import seaborn as sns\n",
        "conf_matrix = confusion_matrix(y_test, y_pred)\n",
        "print(\"Confusion Matrix:\")\n",
        "print(conf_matrix)\n",
        "plt.figure(figsize=(10, 8))\n",
        "sns.heatmap(conf_matrix, annot=True, cmap='Blues', fmt='d', xticklabels=nb_classifier.classes_, yticklabels=nb_classifier.classes_)\n",
        "plt.xlabel('Predicted labels')\n",
        "plt.ylabel('True labels')\n",
        "plt.title('Confusion Matrix')\n",
        "plt.show()\n"
      ],
      "metadata": {
        "trusted": true,
        "id": "y3pJoCRt-mri"
      },
      "outputs": [],
      "execution_count": null
    },
    {
      "cell_type": "code",
      "source": [],
      "metadata": {
        "trusted": true,
        "id": "pv5Pu3AC-mri"
      },
      "outputs": [],
      "execution_count": null
    },
    {
      "cell_type": "markdown",
      "source": [
        "# **SVM_Classifier**"
      ],
      "metadata": {
        "id": "McgP2Zlm-mrj"
      }
    },
    {
      "cell_type": "markdown",
      "source": [
        "****SVM Classifier"
      ],
      "metadata": {
        "id": "ZcNTZm6G-mrj"
      }
    },
    {
      "cell_type": "code",
      "source": [
        "import pandas as pd\n",
        "from sklearn.model_selection import train_test_split\n",
        "from sklearn.feature_extraction.text import TfidfVectorizer\n",
        "from sklearn.svm import SVC\n",
        "from sklearn.metrics import accuracy_score, classification_report\n",
        "\n",
        "# Load the dataset\n",
        "train = pd.read_csv('train.csv')\n",
        "\n",
        "# Preprocessing\n",
        "X = train['article']\n",
        "y = train['label']\n",
        "\n",
        "# TF-IDF Vectorization\n",
        "MAX_NB_WORDS = 50000\n",
        "tfidf_vectorizer = TfidfVectorizer(max_features=MAX_NB_WORDS)\n",
        "X_tfidf = tfidf_vectorizer.fit_transform(X)\n",
        "\n",
        "# Splitting the data into training and testing sets\n",
        "X_train, X_test, y_train, y_test = train_test_split(X_tfidf, y, test_size=0.2, random_state=42)\n",
        "\n",
        "# SVM Classifier\n",
        "svm_classifier = SVC(kernel='linear')  # You can adjust the kernel as needed\n",
        "svm_classifier.fit(X_train, y_train)\n",
        "\n",
        "# Predictions\n",
        "y_pred = svm_classifier.predict(X_test)\n",
        "\n",
        "# Evaluating the model\n",
        "accuracySVM = accuracy_score(y_test, y_pred)\n",
        "print(f\"Accuracy: {accuracySVM}\")\n",
        "\n",
        "# Classification Report\n",
        "print(classification_report(y_test, y_pred))\n"
      ],
      "metadata": {
        "trusted": true,
        "id": "3SBjU9IU-mrj"
      },
      "outputs": [],
      "execution_count": null
    },
    {
      "cell_type": "code",
      "source": [
        "accuracy4=accuracySVM\n",
        "print(accuracySVM)"
      ],
      "metadata": {
        "trusted": true,
        "id": "pDjfPSMx-mrj"
      },
      "outputs": [],
      "execution_count": null
    },
    {
      "cell_type": "code",
      "source": [
        "import matplotlib.pyplot as plt\n",
        "import seaborn as sns\n",
        "from sklearn.metrics import confusion_matrix, classification_report\n",
        "\n",
        "\n",
        "conf_matrix = confusion_matrix(y_test, y_pred)\n",
        "print(\"Confusion Matrix:\")\n",
        "print(conf_matrix)\n",
        "plt.figure(figsize=(10, 8))\n",
        "sns.heatmap(conf_matrix, annot=True, cmap='Blues', fmt='d', xticklabels=svm_classifier.classes_, yticklabels=svm_classifier.classes_)\n",
        "plt.xlabel('Predicted labels')\n",
        "plt.ylabel('True labels')\n",
        "plt.title('Confusion Matrix')\n",
        "plt.show()\n",
        "\n",
        "\n",
        "\n"
      ],
      "metadata": {
        "trusted": true,
        "id": "9HYxslaa-mrj"
      },
      "outputs": [],
      "execution_count": null
    },
    {
      "cell_type": "code",
      "source": [
        "from xgboost import XGBClassifier\n",
        "from sklearn.preprocessing import LabelEncoder\n",
        "from sklearn.metrics import accuracy_score\n",
        "import numpy as np\n",
        "\n",
        "# Encode labels\n",
        "label_encoder = LabelEncoder()\n",
        "y_train = label_encoder.fit_transform(y_train)\n",
        "y_test = label_encoder.transform(y_test)\n",
        "\n",
        "# Convert to NumPy arrays\n",
        "X_train = np.array(X_train)\n",
        "y_train = np.array(y_train)\n",
        "\n",
        "# Train XGBoost model\n",
        "xgb_classifier = XGBClassifier()\n",
        "xgb_classifier.fit(X_train, y_train)\n",
        "\n",
        "# Predictions\n",
        "y_pred = xgb_classifier.predict(X_test)\n",
        "\n",
        "# Accuracy\n",
        "accuracy = accuracy_score(y_test, y_pred)\n",
        "print(f\"XGBoost Model Accuracy: {accuracy:.2f}\")\n",
        "\n"
      ],
      "metadata": {
        "trusted": true,
        "id": "-Wf6DumH-mrj"
      },
      "outputs": [],
      "execution_count": null
    },
    {
      "cell_type": "code",
      "source": [
        "import matplotlib.pyplot as plt\n",
        "import seaborn as sns\n",
        "from sklearn.metrics import confusion_matrix\n",
        "\n",
        "# ... (Previous code remains unchanged)\n",
        "\n",
        "# Confusion Matrix\n",
        "conf_matrix = confusion_matrix(y_test, y_pred)\n",
        "print(conf_matrix)\n",
        "\n",
        "# Plotting Confusion Matrix\n",
        "plt.figure(figsize=(8, 6))\n",
        "sns.heatmap(conf_matrix, annot=True, fmt='d', cmap='Blues',\n",
        "            xticklabels=xgb_classifier.classes_,\n",
        "            yticklabels=xgb_classifier.classes_)\n",
        "plt.xlabel('Predicted Labels')\n",
        "plt.ylabel('True Labels')\n",
        "plt.title('Confusion Matrix')\n",
        "plt.show()\n"
      ],
      "metadata": {
        "trusted": true,
        "id": "ye7EX0EE-mrj"
      },
      "outputs": [],
      "execution_count": null
    },
    {
      "cell_type": "markdown",
      "source": [
        "# Comparison of accuracy****"
      ],
      "metadata": {
        "id": "7xQvpqPP-mrk"
      }
    },
    {
      "cell_type": "code",
      "source": [
        "import matplotlib.pyplot as plt\n",
        "\n",
        "# Assuming you have the accuracy scores for CNN, SVM, and Naive Bayes models\n",
        "\n",
        "\n",
        "# Accuracy scores\n",
        "accuracies = [ accuracy2, accuracy3, accuracy4]\n",
        "models = [ 'XGB_Classifier', 'Naive Bayes', 'SVM']\n",
        "\n",
        "\n",
        "plt.figure(figsize=(8, 6))\n",
        "plt.bar(models, accuracies, color=['blue', 'orange', 'green', 'red'])\n",
        "plt.title('Accuracy Comparison of Different Models')\n",
        "plt.xlabel('Models')\n",
        "plt.ylabel('Accuracy')\n",
        "plt.ylim(0, 1)  # Setting the y-axis limit from 0 to 1 for accuracy range\n",
        "plt.show()\n"
      ],
      "metadata": {
        "trusted": true,
        "id": "AyAGbxdz-mrk"
      },
      "outputs": [],
      "execution_count": null
    },
    {
      "cell_type": "markdown",
      "source": [
        "# Implementing the model and testing with Data"
      ],
      "metadata": {
        "id": "9Fpc3aVB-mrk"
      }
    },
    {
      "cell_type": "code",
      "source": [
        "bangla_article =\n",
        "# Vectorize the Bangla article using the same TF-IDF vectorizer\n",
        "article_tfidf = tfidf_vectorizer.transform([bangla_article])\n",
        "\n",
        "# Predict the label using the SVM classifier\n",
        "predicted_label = svm_classifier.predict(article_tfidf)\n",
        "\n",
        "print(f\"Predicted Label for the Bangla Article: {predicted_label}\")"
      ],
      "metadata": {
        "trusted": true,
        "id": "ZIlz6NfN-mrk"
      },
      "outputs": [],
      "execution_count": null
    }
  ]
}